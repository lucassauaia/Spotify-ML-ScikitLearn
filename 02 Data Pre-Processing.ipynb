{
 "cells": [
  {
   "cell_type": "markdown",
   "metadata": {},
   "source": [
    "# Data Pre-Processing 🛠️\n",
    "Normally, for this step we first remove duplicates, remove null values, strip extra whitespace from leading and trailing whitespace from starting, remove useless columns and normalize the values, leaving it on the same scale. Other thing good to do is to create columns to classify values."
   ]
  },
  {
   "cell_type": "markdown",
   "metadata": {},
   "source": [
    "Before that, we need to install the Python labraries, import the Python libraries and import the dataset into a DataFrame."
   ]
  },
  {
   "cell_type": "code",
   "execution_count": 39,
   "metadata": {},
   "outputs": [
    {
     "name": "stdout",
     "output_type": "stream",
     "text": [
      "Requirement already satisfied: pandas in c:\\users\\lucas\\anaconda3\\lib\\site-packages (2.0.3)\n",
      "Requirement already satisfied: numpy in c:\\users\\lucas\\anaconda3\\lib\\site-packages (1.24.3)\n",
      "Requirement already satisfied: seaborn in c:\\users\\lucas\\anaconda3\\lib\\site-packages (0.12.2)\n",
      "Requirement already satisfied: matplotlib in c:\\users\\lucas\\anaconda3\\lib\\site-packages (3.7.2)\n",
      "Requirement already satisfied: python-dateutil>=2.8.2 in c:\\users\\lucas\\anaconda3\\lib\\site-packages (from pandas) (2.8.2)\n",
      "Requirement already satisfied: pytz>=2020.1 in c:\\users\\lucas\\anaconda3\\lib\\site-packages (from pandas) (2023.3.post1)\n",
      "Requirement already satisfied: tzdata>=2022.1 in c:\\users\\lucas\\anaconda3\\lib\\site-packages (from pandas) (2023.3)\n",
      "Requirement already satisfied: contourpy>=1.0.1 in c:\\users\\lucas\\anaconda3\\lib\\site-packages (from matplotlib) (1.0.5)\n",
      "Requirement already satisfied: cycler>=0.10 in c:\\users\\lucas\\anaconda3\\lib\\site-packages (from matplotlib) (0.11.0)\n",
      "Requirement already satisfied: fonttools>=4.22.0 in c:\\users\\lucas\\anaconda3\\lib\\site-packages (from matplotlib) (4.25.0)\n",
      "Requirement already satisfied: kiwisolver>=1.0.1 in c:\\users\\lucas\\anaconda3\\lib\\site-packages (from matplotlib) (1.4.4)\n",
      "Requirement already satisfied: packaging>=20.0 in c:\\users\\lucas\\anaconda3\\lib\\site-packages (from matplotlib) (23.1)\n",
      "Requirement already satisfied: pillow>=6.2.0 in c:\\users\\lucas\\anaconda3\\lib\\site-packages (from matplotlib) (9.4.0)\n",
      "Requirement already satisfied: pyparsing<3.1,>=2.3.1 in c:\\users\\lucas\\anaconda3\\lib\\site-packages (from matplotlib) (3.0.9)\n",
      "Requirement already satisfied: six>=1.5 in c:\\users\\lucas\\anaconda3\\lib\\site-packages (from python-dateutil>=2.8.2->pandas) (1.16.0)\n"
     ]
    }
   ],
   "source": [
    "# Install Python libraries\n",
    "!pip install pandas numpy seaborn matplotlib"
   ]
  },
  {
   "cell_type": "code",
   "execution_count": 40,
   "metadata": {},
   "outputs": [],
   "source": [
    "# Import Python libraries\n",
    "import pandas as pd\n",
    "import numpy as np\n",
    "import seaborn as sns\n",
    "import matplotlib.pyplot as plt\n",
    "import matplotlib as mpl\n",
    "import matplotlib.patches as mpatches\n",
    "\n",
    "# Import the dataset into a DataFrame\n",
    "df = pd.read_csv(\"asset/dataset.csv\")"
   ]
  },
  {
   "cell_type": "markdown",
   "metadata": {},
   "source": [
    "## 1. Remove duplicates 🚫🔄"
   ]
  },
  {
   "cell_type": "code",
   "execution_count": 41,
   "metadata": {},
   "outputs": [],
   "source": [
    "df = df.drop_duplicates()"
   ]
  },
  {
   "cell_type": "markdown",
   "metadata": {},
   "source": [
    "## 2. Remove *null* values ❌🅾️"
   ]
  },
  {
   "cell_type": "code",
   "execution_count": 42,
   "metadata": {},
   "outputs": [],
   "source": [
    "df = df.dropna()"
   ]
  },
  {
   "cell_type": "markdown",
   "metadata": {},
   "source": [
    "## 3. Strip extra whitespaces ✂️🔳"
   ]
  },
  {
   "cell_type": "code",
   "execution_count": 43,
   "metadata": {},
   "outputs": [
    {
     "name": "stderr",
     "output_type": "stream",
     "text": [
      "C:\\Users\\lucas\\AppData\\Local\\Temp\\ipykernel_6960\\1415938339.py:9: FutureWarning: DataFrame.applymap has been deprecated. Use DataFrame.map instead.\n",
      "  df = df.applymap(strip_whitespaces)\n"
     ]
    }
   ],
   "source": [
    "# Function to strip whitespaces from object columns\n",
    "def strip_whitespaces(x):\n",
    "    if isinstance(x, str):\n",
    "        return x.strip()\n",
    "    else:\n",
    "        return x\n",
    "\n",
    "# Apply the function to all object columns\n",
    "df = df.applymap(strip_whitespaces)"
   ]
  },
  {
   "cell_type": "markdown",
   "metadata": {},
   "source": [
    "## 4. Add classification columns ➕🏷️"
   ]
  },
  {
   "cell_type": "code",
   "execution_count": 44,
   "metadata": {},
   "outputs": [],
   "source": [
    "# Create popularity classes\n",
    "# Selecting rows where 'popularity' is greater than or equal to 80\n",
    "df[df[\"popularity\"] >= 80]\n",
    "\n",
    "# Defining conditions for the 'pop_classe' column\n",
    "conditionlist = [\n",
    "    (df['popularity'] >= 80),\n",
    "    (df['popularity'] < 80)\n",
    "]\n",
    "\n",
    "# Assigning values based on conditions\n",
    "choicelist = [1, 0]\n",
    "df['pop_classe'] = np.select(conditionlist, choicelist, default='Not Specified')\n",
    "\n",
    "# Converting the 'pop_classe' column to integer type\n",
    "df['pop_classe'] = df['pop_classe'].astype(int)\n"
   ]
  },
  {
   "cell_type": "markdown",
   "metadata": {},
   "source": [
    "## 5. Remove useless columns 🚫📊"
   ]
  },
  {
   "cell_type": "code",
   "execution_count": 45,
   "metadata": {},
   "outputs": [
    {
     "name": "stdout",
     "output_type": "stream",
     "text": [
      "<class 'pandas.core.frame.DataFrame'>\n",
      "Index: 113999 entries, 0 to 113999\n",
      "Data columns (total 15 columns):\n",
      " #   Column            Non-Null Count   Dtype  \n",
      "---  ------            --------------   -----  \n",
      " 0   Unnamed: 0        113999 non-null  int64  \n",
      " 1   duration_ms       113999 non-null  int64  \n",
      " 2   danceability      113999 non-null  float64\n",
      " 3   energy            113999 non-null  float64\n",
      " 4   key               113999 non-null  int64  \n",
      " 5   loudness          113999 non-null  float64\n",
      " 6   mode              113999 non-null  int64  \n",
      " 7   speechiness       113999 non-null  float64\n",
      " 8   acousticness      113999 non-null  float64\n",
      " 9   instrumentalness  113999 non-null  float64\n",
      " 10  liveness          113999 non-null  float64\n",
      " 11  valence           113999 non-null  float64\n",
      " 12  tempo             113999 non-null  float64\n",
      " 13  time_signature    113999 non-null  int64  \n",
      " 14  pop_classe        113999 non-null  int32  \n",
      "dtypes: float64(9), int32(1), int64(5)\n",
      "memory usage: 13.5 MB\n"
     ]
    }
   ],
   "source": [
    "df = df.drop(columns=['popularity', 'explicit'])\n",
    "\n",
    "# Keep only quantitative columns that are important for the model\n",
    "\n",
    "df_quantitative = df\n",
    "cols_to_drop = []\n",
    "\n",
    "for column in df:\n",
    "    if df[column].dtype == 'object':\n",
    "        cols_to_drop.append(column)\n",
    "\n",
    "df_quantitative = df.drop(columns=cols_to_drop)\n",
    "\n",
    "df_quantitative.info()"
   ]
  },
  {
   "cell_type": "markdown",
   "metadata": {},
   "source": [
    "## 6. Normalize the values 🔄📏"
   ]
  },
  {
   "cell_type": "code",
   "execution_count": 46,
   "metadata": {},
   "outputs": [],
   "source": [
    "# Normalizing the data, bringing it to the same scale\n",
    "df_quantitative_nm = (df_quantitative - df_quantitative.min()) / (df_quantitative.max() - df_quantitative.min())"
   ]
  }
 ],
 "metadata": {
  "kernelspec": {
   "display_name": "Python 3",
   "language": "python",
   "name": "python3"
  },
  "language_info": {
   "codemirror_mode": {
    "name": "ipython",
    "version": 3
   },
   "file_extension": ".py",
   "mimetype": "text/x-python",
   "name": "python",
   "nbconvert_exporter": "python",
   "pygments_lexer": "ipython3",
   "version": "3.12.0"
  }
 },
 "nbformat": 4,
 "nbformat_minor": 2
}
